{
 "cells": [
  {
   "cell_type": "markdown",
   "metadata": {},
   "source": [
    "# Matrix Factorization without and with Bias\n",
    "## Load user rating file, covert the rating file into user-item matrix"
   ]
  },
  {
   "cell_type": "code",
   "execution_count": 1,
   "metadata": {},
   "outputs": [
    {
     "name": "stdout",
     "output_type": "stream",
     "text": [
      "Number of users = 943 | Number of movies = 1682\n"
     ]
    }
   ],
   "source": [
    "import numpy as np\n",
    "import pandas as pd\n",
    "\n",
    "ratingfile = 'ratings.data'\n",
    "header = ['user_id', 'item_id', 'rating', 'timestamp']\n",
    "df = pd.read_csv(ratingfile, sep='\\t', names=header)\n",
    "\n",
    "n_users = df.user_id.unique().shape[0]\n",
    "n_items = df.item_id.unique().shape[0]\n",
    "print('Number of users = ' + str(n_users) + ' | Number of movies = ' + str(n_items))\n",
    "\n",
    "user_item_matrix = np.zeros((n_users, n_items))\n",
    "for line in df.itertuples():\n",
    "    user_item_matrix[line[1] - 1, line[2] - 1] = line[3]"
   ]
  },
  {
   "cell_type": "markdown",
   "metadata": {},
   "source": [
    "## Split the user-item matrix set into training set and testing set"
   ]
  },
  {
   "cell_type": "code",
   "execution_count": 2,
   "metadata": {},
   "outputs": [],
   "source": [
    "from sklearn.metrics import mean_squared_error\n",
    "from sklearn.model_selection import train_test_split\n",
    "\n",
    "# split the data set into training set and testing set\n",
    "train_data, test_data = train_test_split(df, test_size=0.25)\n",
    "\n",
    "# transfer the train set and test set of ratings to user-item matrix\n",
    "    \n",
    "train = pd.DataFrame(train_data)\n",
    "test = pd.DataFrame(test_data)\n",
    "\n",
    "train_matrix = np.zeros((n_users, n_items))\n",
    "for line in train.itertuples():\n",
    "    train_matrix[int(line[1]) - 1, int(line[2]) - 1] = line[3]\n",
    "\n",
    "test_matrix = np.zeros((n_users, n_items))\n",
    "for line in test.itertuples():\n",
    "    test_matrix[int(line[1]) - 1, int(line[2]) - 1] = line[3]  \n"
   ]
  },
  {
   "cell_type": "markdown",
   "metadata": {},
   "source": [
    "## Compute the Rooted mean square error to evaluate the accuaracy"
   ]
  },
  {
   "cell_type": "code",
   "execution_count": 3,
   "metadata": {},
   "outputs": [],
   "source": [
    "from sklearn.metrics import mean_squared_error\n",
    "from math import sqrt\n",
    "def rmse(pred_rate, true_rate):\n",
    "    prediction = pred_rate[true_rate.nonzero()].flatten() \n",
    "    true_rate = true_rate[true_rate.nonzero()].flatten()\n",
    "    return sqrt(mean_squared_error(prediction, true_rate))"
   ]
  },
  {
   "cell_type": "markdown",
   "metadata": {},
   "source": [
    "## Get the index for the non-zero rating in training and testing user-item matrix "
   ]
  },
  {
   "cell_type": "code",
   "execution_count": 4,
   "metadata": {},
   "outputs": [],
   "source": [
    "# Index matrix for training data\n",
    "train_ind = train_matrix.copy()\n",
    "train_ind[train_ind > 0] = 1\n",
    "train_ind[train_ind == 0] = 0\n",
    "\n",
    "# Index matrix for test data\n",
    "test_ind = test_matrix.copy()\n",
    "test_ind[test_ind > 0] = 1\n",
    "test_ind[test_ind == 0] = 0"
   ]
  },
  {
   "cell_type": "markdown",
   "metadata": {},
   "source": [
    "## Prediction function"
   ]
  },
  {
   "cell_type": "code",
   "execution_count": 5,
   "metadata": {},
   "outputs": [],
   "source": [
    "# Predict the unknown ratings through the dot product of the latent features for users and items and the bias\n",
    "def prediction_sgd_bias(P, Q, b_global, b_user, b_item):\n",
    "    ratings = np.dot(P, Q.T)\n",
    "    for u in range(len(b_user)):\n",
    "        for i in range(len(b_item)):\n",
    "            ratings[u][i] = b_global +  b_user[u] + b_item[i] + ratings[u][i]\n",
    "    return ratings"
   ]
  },
  {
   "cell_type": "markdown",
   "metadata": {},
   "source": [
    "## Rooted mean square error computation function"
   ]
  },
  {
   "cell_type": "code",
   "execution_count": 6,
   "metadata": {},
   "outputs": [],
   "source": [
    "# Calculate the RMSE for SGD (without bias)\n",
    "def sgd_rmse(ind, data_matrix, P, Q):\n",
    "    return np.sqrt(np.sum((ind * (data_matrix - np.dot(P, Q.T)))**2)/len(data_matrix[data_matrix > 0]))\n",
    "\n",
    "# Calculate the RMSE for SGD with bias\n",
    "def sgd_bias_rmse(ind, data_matrix, P, Q, b_global, b_user, b_item):\n",
    "    return np.sqrt(np.sum((ind * (data_matrix - prediction_sgd_bias(P, Q, b_global, b_user, b_item)))**2)/len(data_matrix[data_matrix > 0]))"
   ]
  },
  {
   "cell_type": "markdown",
   "metadata": {},
   "source": [
    "## Stochastic Gradient Descent (SGD) function"
   ]
  },
  {
   "cell_type": "code",
   "execution_count": 7,
   "metadata": {},
   "outputs": [],
   "source": [
    "def sgd(train, test, train_ind, test_ind, factor_k, alpha, lmbda, iteration):\n",
    "    print (\"Computing using SGD ......\")\n",
    "    \n",
    "    train_errors = []\n",
    "    test_errors = []\n",
    "    \n",
    "    m, n = train.shape # Number of users and items in training set\n",
    "    \n",
    "    # initialize Latent user feature matrix and Latent movie feature matrix\n",
    "    P = 3 * np.random.rand(m, factor_k)  # Latent user feature matrix\n",
    "    Q = 3 * np.random.rand(n, factor_k)  # Latent movie feature matrix\n",
    "    \n",
    "    # Only consider non-zero elements in the training matrix\n",
    "    users, items = train.nonzero()\n",
    "    for it in range(iteration):\n",
    "        print(\"SGD Iteration\", it)\n",
    "        for u, i in zip(users, items):\n",
    "            e = train[u, i] - (np.dot(P[u], Q[i].T))  # Calculate error for gradient\n",
    "            P[u] += alpha * (e * Q[i] - lmbda * P[u])  # Update latent user feature matrix\n",
    "            Q[i] += alpha * (e * P[u] - lmbda * Q[i])  # Update latent movie feature matrix\n",
    "        train_rmse = sgd_rmse(train_ind, train, P, Q)  # Calculate root mean squared error from train dataset\n",
    "        test_rmse = sgd_rmse(test_ind, test, P, Q)  # Calculate root mean squared error from test dataset\n",
    "        train_errors.append(train_rmse)\n",
    "        test_errors.append(test_rmse)\n",
    "\n",
    "    return train_errors, test_errors"
   ]
  },
  {
   "cell_type": "markdown",
   "metadata": {},
   "source": [
    "## Prediction using SGD\n",
    "** It is important to note that SGD with 100 iterations may take more than 10 minutes or more to complete! (depend on your computer) **"
   ]
  },
  {
   "cell_type": "code",
   "execution_count": 8,
   "metadata": {},
   "outputs": [
    {
     "name": "stdout",
     "output_type": "stream",
     "text": [
      "Computing using SGD ......\n",
      "SGD Iteration 0\n",
      "SGD Iteration 1\n",
      "SGD Iteration 2\n",
      "SGD Iteration 3\n",
      "SGD Iteration 4\n",
      "SGD Iteration 5\n",
      "SGD Iteration 6\n",
      "SGD Iteration 7\n",
      "SGD Iteration 8\n",
      "SGD Iteration 9\n",
      "SGD Iteration 10\n",
      "SGD Iteration 11\n",
      "SGD Iteration 12\n",
      "SGD Iteration 13\n",
      "SGD Iteration 14\n",
      "SGD Iteration 15\n",
      "SGD Iteration 16\n",
      "SGD Iteration 17\n",
      "SGD Iteration 18\n",
      "SGD Iteration 19\n",
      "SGD Iteration 20\n",
      "SGD Iteration 21\n",
      "SGD Iteration 22\n",
      "SGD Iteration 23\n",
      "SGD Iteration 24\n",
      "SGD Iteration 25\n",
      "SGD Iteration 26\n",
      "SGD Iteration 27\n",
      "SGD Iteration 28\n",
      "SGD Iteration 29\n",
      "SGD Iteration 30\n",
      "SGD Iteration 31\n",
      "SGD Iteration 32\n",
      "SGD Iteration 33\n",
      "SGD Iteration 34\n",
      "SGD Iteration 35\n",
      "SGD Iteration 36\n",
      "SGD Iteration 37\n",
      "SGD Iteration 38\n",
      "SGD Iteration 39\n",
      "SGD Iteration 40\n",
      "SGD Iteration 41\n",
      "SGD Iteration 42\n",
      "SGD Iteration 43\n",
      "SGD Iteration 44\n",
      "SGD Iteration 45\n",
      "SGD Iteration 46\n",
      "SGD Iteration 47\n",
      "SGD Iteration 48\n",
      "SGD Iteration 49\n",
      "SGD Iteration 50\n",
      "SGD Iteration 51\n",
      "SGD Iteration 52\n",
      "SGD Iteration 53\n",
      "SGD Iteration 54\n",
      "SGD Iteration 55\n",
      "SGD Iteration 56\n",
      "SGD Iteration 57\n",
      "SGD Iteration 58\n",
      "SGD Iteration 59\n",
      "SGD Iteration 60\n",
      "SGD Iteration 61\n",
      "SGD Iteration 62\n",
      "SGD Iteration 63\n",
      "SGD Iteration 64\n",
      "SGD Iteration 65\n",
      "SGD Iteration 66\n",
      "SGD Iteration 67\n",
      "SGD Iteration 68\n",
      "SGD Iteration 69\n",
      "SGD Iteration 70\n",
      "SGD Iteration 71\n",
      "SGD Iteration 72\n",
      "SGD Iteration 73\n",
      "SGD Iteration 74\n",
      "SGD Iteration 75\n",
      "SGD Iteration 76\n",
      "SGD Iteration 77\n",
      "SGD Iteration 78\n",
      "SGD Iteration 79\n",
      "SGD Iteration 80\n",
      "SGD Iteration 81\n",
      "SGD Iteration 82\n",
      "SGD Iteration 83\n",
      "SGD Iteration 84\n",
      "SGD Iteration 85\n",
      "SGD Iteration 86\n",
      "SGD Iteration 87\n",
      "SGD Iteration 88\n",
      "SGD Iteration 89\n",
      "SGD Iteration 90\n",
      "SGD Iteration 91\n",
      "SGD Iteration 92\n",
      "SGD Iteration 93\n",
      "SGD Iteration 94\n",
      "SGD Iteration 95\n",
      "SGD Iteration 96\n",
      "SGD Iteration 97\n",
      "SGD Iteration 98\n",
      "SGD Iteration 99\n"
     ]
    }
   ],
   "source": [
    "factor_k = 20 # number of latent features\n",
    "alpha = 0.01 # Learning rate\n",
    "lmbda = 0.1 # Regularisation weight\n",
    "iteration = 100 # number of iteration\n",
    "# use stochastic gradient descent to optimize the prediction\n",
    "train_errors_sgd, test_errors_sgd = sgd(train_matrix, test_matrix, train_ind, test_ind, factor_k, alpha, lmbda, iteration)"
   ]
  },
  {
   "cell_type": "code",
   "execution_count": 9,
   "metadata": {},
   "outputs": [
    {
     "name": "stdout",
     "output_type": "stream",
     "text": [
      "[0.9721855312363651, 0.9719109209111931, 0.9716451015084083, 0.9713877348910184, 0.9711384988646349, 0.970897086266998, 0.970663204116677, 0.9704365728165828, 0.9702169254083193, 0.9700040068737624]\n"
     ]
    }
   ],
   "source": [
    "print(test_errors_sgd[90:100])"
   ]
  },
  {
   "cell_type": "code",
   "execution_count": 10,
   "metadata": {
    "scrolled": true
   },
   "outputs": [
    {
     "data": {
      "image/png": "[encoded data removed]",
      "text/plain": [
       "<Figure size 432x288 with 1 Axes>"
      ]
     },
     "metadata": {},
     "output_type": "display_data"
    }
   ],
   "source": [
    "import matplotlib.pyplot as plt\n",
    "%matplotlib inline\n",
    "\n",
    "# Check performance by plotting train and test errors\n",
    "plt.plot(range(100), train_errors_sgd, linestyle='-', label='MF-nobias (training)')\n",
    "plt.plot(range(100), test_errors_sgd, linestyle='-', label='MF-nobias (testing)')\n",
    "plt.title('SGD-MF Learning Curve')\n",
    "plt.xlabel('Iteration')\n",
    "plt.ylabel('RMSE')\n",
    "plt.legend()\n",
    "plt.grid()\n",
    "plt.show()"
   ]
  },
  {
   "cell_type": "markdown",
   "metadata": {},
   "source": [
    "## Matrix Factoriztion with Bias (SGD)"
   ]
  },
  {
   "cell_type": "code",
   "execution_count": 11,
   "metadata": {},
   "outputs": [],
   "source": [
    "def sgd_bias(train, test, train_ind, test_ind, factor_k, alpha, lmbda, iteration):\n",
    "    print (\"Computing using SGD ......\")\n",
    "    \n",
    "    train_errors = []\n",
    "    test_errors = []\n",
    "\n",
    "    # your code needs to be added here for MF with bias by SGD\n",
    "\n",
    "    return train_errors, test_errors"
   ]
  },
  {
   "cell_type": "markdown",
   "metadata": {},
   "source": [
    "## Rating Prediction using Stochatic Gradient Descent with Bias"
   ]
  },
  {
   "cell_type": "code",
   "execution_count": 12,
   "metadata": {},
   "outputs": [
    {
     "name": "stdout",
     "output_type": "stream",
     "text": [
      "Computing using SGD ......\n",
      "SGD Iteration 0\n",
      "SGD Iteration 1\n",
      "SGD Iteration 2\n",
      "SGD Iteration 3\n",
      "SGD Iteration 4\n",
      "SGD Iteration 5\n",
      "SGD Iteration 6\n",
      "SGD Iteration 7\n",
      "SGD Iteration 8\n",
      "SGD Iteration 9\n",
      "SGD Iteration 10\n",
      "SGD Iteration 11\n",
      "SGD Iteration 12\n",
      "SGD Iteration 13\n",
      "SGD Iteration 14\n",
      "SGD Iteration 15\n",
      "SGD Iteration 16\n",
      "SGD Iteration 17\n",
      "SGD Iteration 18\n",
      "SGD Iteration 19\n",
      "SGD Iteration 20\n",
      "SGD Iteration 21\n",
      "SGD Iteration 22\n",
      "SGD Iteration 23\n",
      "SGD Iteration 24\n",
      "SGD Iteration 25\n",
      "SGD Iteration 26\n",
      "SGD Iteration 27\n",
      "SGD Iteration 28\n",
      "SGD Iteration 29\n",
      "SGD Iteration 30\n",
      "SGD Iteration 31\n",
      "SGD Iteration 32\n",
      "SGD Iteration 33\n",
      "SGD Iteration 34\n",
      "SGD Iteration 35\n",
      "SGD Iteration 36\n",
      "SGD Iteration 37\n",
      "SGD Iteration 38\n",
      "SGD Iteration 39\n",
      "SGD Iteration 40\n",
      "SGD Iteration 41\n",
      "SGD Iteration 42\n",
      "SGD Iteration 43\n",
      "SGD Iteration 44\n",
      "SGD Iteration 45\n",
      "SGD Iteration 46\n",
      "SGD Iteration 47\n",
      "SGD Iteration 48\n",
      "SGD Iteration 49\n",
      "SGD Iteration 50\n",
      "SGD Iteration 51\n",
      "SGD Iteration 52\n",
      "SGD Iteration 53\n",
      "SGD Iteration 54\n",
      "SGD Iteration 55\n",
      "SGD Iteration 56\n",
      "SGD Iteration 57\n",
      "SGD Iteration 58\n",
      "SGD Iteration 59\n",
      "SGD Iteration 60\n",
      "SGD Iteration 61\n",
      "SGD Iteration 62\n",
      "SGD Iteration 63\n",
      "SGD Iteration 64\n",
      "SGD Iteration 65\n",
      "SGD Iteration 66\n",
      "SGD Iteration 67\n",
      "SGD Iteration 68\n",
      "SGD Iteration 69\n",
      "SGD Iteration 70\n",
      "SGD Iteration 71\n",
      "SGD Iteration 72\n",
      "SGD Iteration 73\n",
      "SGD Iteration 74\n",
      "SGD Iteration 75\n",
      "SGD Iteration 76\n",
      "SGD Iteration 77\n",
      "SGD Iteration 78\n",
      "SGD Iteration 79\n",
      "SGD Iteration 80\n",
      "SGD Iteration 81\n",
      "SGD Iteration 82\n",
      "SGD Iteration 83\n",
      "SGD Iteration 84\n",
      "SGD Iteration 85\n",
      "SGD Iteration 86\n",
      "SGD Iteration 87\n",
      "SGD Iteration 88\n",
      "SGD Iteration 89\n",
      "SGD Iteration 90\n",
      "SGD Iteration 91\n",
      "SGD Iteration 92\n",
      "SGD Iteration 93\n",
      "SGD Iteration 94\n",
      "SGD Iteration 95\n",
      "SGD Iteration 96\n",
      "SGD Iteration 97\n",
      "SGD Iteration 98\n",
      "SGD Iteration 99\n"
     ]
    }
   ],
   "source": [
    "factor_k = 20 # number of latent features\n",
    "alpha = 0.01 # Learning rate\n",
    "lmbda = 0.1 # Regularization weight\n",
    "iteration = 100 # number of iteration\n",
    "# use stochastic gradient descent to optimize the prediction\n",
    "train_errors_sgd_bias, test_errors_sgd_bias = sgd_bias(train_matrix, test_matrix, train_ind, test_ind, factor_k, alpha, lmbda, iteration)"
   ]
  },
  {
   "cell_type": "code",
   "execution_count": 13,
   "metadata": {},
   "outputs": [
    {
     "name": "stdout",
     "output_type": "stream",
     "text": [
      "[0.9512608689359231, 0.9509369434672303, 0.9506223965641234, 0.9503168692272442, 0.9500200180913723, 0.9497315147112059, 0.9494510448798218, 0.949178307978138, 0.94891301635387, 0.9486548947286101]\n"
     ]
    }
   ],
   "source": [
    "print(test_errors_sgd_bias[90:100])"
   ]
  },
  {
   "cell_type": "code",
   "execution_count": 14,
   "metadata": {},
   "outputs": [
    {
     "data": {
      "image/png": "[encoded data removed]",
      "text/plain": [
       "<Figure size 432x288 with 1 Axes>"
      ]
     },
     "metadata": {},
     "output_type": "display_data"
    }
   ],
   "source": [
    "import matplotlib.pyplot as plt\n",
    "%matplotlib inline\n",
    "\n",
    "plt.plot(range(100), train_errors_sgd, linestyle='-',  label='MF-nobias (training)')\n",
    "plt.plot(range(100), test_errors_sgd, linestyle='-', label='MF-nobias (testing)')\n",
    "plt.plot(range(100), train_errors_sgd_bias, linestyle='-',  label='MF-bias (training)')\n",
    "plt.plot(range(100), test_errors_sgd_bias, linestyle='-', label='MF-bias (testing)')\n",
    "plt.title('SGD-MF with bias Learning Curve')\n",
    "plt.xlabel('Iteration')\n",
    "plt.ylabel('RMSE')\n",
    "plt.legend()\n",
    "plt.grid()\n",
    "plt.show()"
   ]
  },
  {
   "cell_type": "code",
   "execution_count": null,
   "metadata": {},
   "outputs": [],
   "source": []
  }
 ],
 "metadata": {
  "anaconda-cloud": {},
  "kernelspec": {
   "display_name": "Python 3",
   "language": "python",
   "name": "python3"
  },
  "language_info": {
   "codemirror_mode": {
    "name": "ipython",
    "version": 3
   },
   "file_extension": ".py",
   "mimetype": "text/x-python",
   "name": "python",
   "nbconvert_exporter": "python",
   "pygments_lexer": "ipython3",
   "version": "3.6.4"
  }
 },
 "nbformat": 4,
 "nbformat_minor": 1
}
