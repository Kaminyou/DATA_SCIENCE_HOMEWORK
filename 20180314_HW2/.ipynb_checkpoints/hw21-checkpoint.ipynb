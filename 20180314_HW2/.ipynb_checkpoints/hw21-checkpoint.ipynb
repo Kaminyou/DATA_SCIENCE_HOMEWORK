{
 "cells": [
  {
   "cell_type": "code",
   "execution_count": 1,
   "metadata": {},
   "outputs": [],
   "source": [
    "import pandas as pd\n",
    "import numpy as np\n",
    "import matplotlib.pyplot as plt\n",
    "%matplotlib inline"
   ]
  },
  {
   "cell_type": "code",
   "execution_count": 124,
   "metadata": {},
   "outputs": [
    {
     "name": "stdout",
     "output_type": "stream",
     "text": [
      "Please choose one question\n",
      "Which question do you want to ask?\n",
      "'Which country has won the most gold medals in summer games?'Please fill in '1'\n",
      "'Which country had the biggest difference between their summer and winter gold medal counts?'Please fill in '2'\n",
      "'Which country has the biggest difference between their summer and winter gold medal counts relative to their total gold medal count?'Please fill in '3'\n",
      "your question is：3\n",
      "Bulgaria\n",
      "Press enter to exit\n",
      "enter：\n"
     ]
    }
   ],
   "source": [
    "#讀取檔案\n",
    "df = pd.read_csv(\"olympics.csv\")\n",
    "df.index = df[\"0\"]\n",
    "#去掉沒用的欄位\n",
    "del(df[\"0\"])\n",
    "#第一題\n",
    "def answer21():\n",
    "    #直接取出那一列最大值\n",
    "    summer_max = df.iloc[1:147,1].nlargest(1).index\n",
    "    #從?斷開\n",
    "    summer_max_split = summer_max[0].split(\"?\")\n",
    "    return summer_max_split[0]\n",
    "#第二題\n",
    "def answer22():\n",
    "    #創造一個存取相差值的row\n",
    "    df[\"diff\"] = df.iloc[1:147,2] - df.iloc[1:147,7]\n",
    "    #取絕對值\n",
    "    abs(df[\"diff\"])\n",
    "    #取出最大的那個\n",
    "    diff_max = df[\"diff\"].nlargest(1).index\n",
    "    diff_max_split = diff_max[0].split(\"?\")\n",
    "    return diff_max_split[0]\n",
    "#第三題\n",
    "def answer23():\n",
    "    #創造一個存取相差值的row\n",
    "    df[\"diff\"] = df.iloc[1:147,2] - df.iloc[1:147,7]\n",
    "    abs(df[\"diff\"])\n",
    "    answer23 = df.iloc[1:147][:]\n",
    "    #至少都要大於一\n",
    "    answer23_df = answer23[answer23[\"2\"] >= 1]\n",
    "    answer23_23_df = answer23_df[answer23_df[\"7\"] >= 1]\n",
    "    df_new = answer23_23_df.copy()\n",
    "    #做一個存取相加值的row\n",
    "    df_new[\"total\"] = df_new[\"2\"] + df_new[\"7\"]\n",
    "    #存相對值\n",
    "    df_new[\"relative\"] = df_new[\"diff\"] / df_new[\"total\"]\n",
    "    #取出最大那個\n",
    "    relative_max = df_new[\"relative\"].nlargest(1).index\n",
    "    relative_max_split = relative_max[0].split(\"?\")\n",
    "    return relative_max_split[0]\n",
    "#以詢問知模式呼叫出對應function\n",
    "print(\"Please choose one question\")\n",
    "print(\"Which question do you want to ask?\")\n",
    "print(\"'Which country has won the most gold medals in summer games?'Please fill in '1'\")\n",
    "print(\"'Which country had the biggest difference between their summer and winter gold medal counts?'Please fill in '2'\")\n",
    "print(\"'Which country has the biggest difference between their summer and winter gold medal counts relative to their total gold medal count?'Please fill in '3'\")\n",
    "a = input(\"your question is：\")\n",
    "if a == \"1\":\n",
    "    print(answer21())\n",
    "if a == \"2\":\n",
    "    print(answer22())\n",
    "if a == \"3\":\n",
    "    print(answer23())\n",
    "if a != \"1\" and a != \"2\" and a != \"3\":\n",
    "    print(\"Sorry, we don't provide this service.\")\n",
    "print(\"Press enter to exit\")\n",
    "b = input(\"enter：\")"
   ]
  },
  {
   "cell_type": "code",
   "execution_count": null,
   "metadata": {},
   "outputs": [],
   "source": []
  }
 ],
 "metadata": {
  "kernelspec": {
   "display_name": "Python 3",
   "language": "python",
   "name": "python3"
  },
  "language_info": {
   "codemirror_mode": {
    "name": "ipython",
    "version": 3
   },
   "file_extension": ".py",
   "mimetype": "text/x-python",
   "name": "python",
   "nbconvert_exporter": "python",
   "pygments_lexer": "ipython3",
   "version": "3.6.4"
  }
 },
 "nbformat": 4,
 "nbformat_minor": 2
}
