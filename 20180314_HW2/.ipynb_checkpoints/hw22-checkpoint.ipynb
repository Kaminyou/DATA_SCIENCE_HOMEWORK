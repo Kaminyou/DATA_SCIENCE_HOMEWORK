{
 "cells": [
  {
   "cell_type": "code",
   "execution_count": 2,
   "metadata": {},
   "outputs": [],
   "source": [
    "import pandas as pd\n",
    "import numpy as np\n",
    "import matplotlib.pyplot as plt\n",
    "%matplotlib inline\n",
    "df = pd.read_csv(\"census.csv\")"
   ]
  },
  {
   "cell_type": "code",
   "execution_count": 3,
   "metadata": {},
   "outputs": [
    {
     "name": "stdout",
     "output_type": "stream",
     "text": [
      "Please choose one question\n",
      "Which question do you want to ask?\n",
      "'Which state has the most counties in it?'Please fill in '1'\n",
      "'Only looking at the three most populous counties for each state, what are the three most populous states?'Please fill in '2'\n",
      "'Which county has had the largest change in population within the five year period?'Please fill in '3'\n",
      "your question is：3\n",
      "Harris County\n",
      "Press enter to exit\n",
      "enter：\n"
     ]
    }
   ],
   "source": [
    "#第一題\n",
    "def answer31():\n",
    "    #直接用stname分組算出出現次數並輸出\n",
    "    total = df.groupby(\"STNAME\").size()\n",
    "    return total.idxmax()\n",
    "#第二題\n",
    "def answer32():\n",
    "    #抓取所要資料\n",
    "    statmax_real_dict = {}\n",
    "    statmax_df = df.iloc[:,[5,7]]\n",
    "    #對這接資料透過STNAME分組\n",
    "    statmax_df_group = statmax_df.groupby(\"STNAME\")\n",
    "    #以STNAME分的組直接找出其所對應CENSUS2010POP欄位中前三大並直接相加再存取到以該國家名之DICT中\n",
    "    for group in statmax_df_group:\n",
    "        statmax_real_dict[group[0]] = group[1][\"CENSUS2010POP\"].nlargest(3).sum()\n",
    "    #將DICT做成SERIES\n",
    "    statmax_real_df = pd.Series(statmax_real_dict)\n",
    "    #從SERIES中直接輸出前三大之對應INDEX\n",
    "    a = statmax_real_df.nlargest(3).index\n",
    "    b = [a[0],a[1],a[2]]\n",
    "    return b\n",
    "#第三題\n",
    "def answer33():\n",
    "    #取出所要資料\n",
    "    answer33_df = df.iloc[:,[5,6,9,10,11,12,13,14]][df.SUMLEV > 40]\n",
    "    #將STNAME欄位與CTYNAME欄位合併並作為INDEX\n",
    "    answer33_df.index = answer33_df[\"STNAME\"] + \"?\" + answer33_df[\"CTYNAME\"]\n",
    "    #刪除不必要的欄位\n",
    "    del(answer33_df[\"STNAME\"])\n",
    "    del(answer33_df[\"CTYNAME\"])\n",
    "    answer33_dict = {}\n",
    "    #取出每個INDEX對應6年中最大最小值相減並存入DICT中\n",
    "    for index in answer33_df.index:\n",
    "        answer33_dict[index] = (answer33_df.loc[index].max() - answer33_df.loc[index].min())\n",
    "    #將DICT存成SERIES\n",
    "    answer33_real_df = pd.Series(answer33_dict)\n",
    "    #輸出最大值\n",
    "    return answer33_real_df.idxmax().split(\"?\")[1]\n",
    "#以詢問知模式呼叫出對應function\n",
    "print(\"Please choose one question\")\n",
    "print(\"Which question do you want to ask?\")\n",
    "print(\"'Which state has the most counties in it?'Please fill in '1'\")\n",
    "print(\"'Only looking at the three most populous counties for each state, what are the three most populous states?'Please fill in '2'\")\n",
    "print(\"'Which county has had the largest change in population within the five year period?'Please fill in '3'\")\n",
    "a = input(\"your question is：\")\n",
    "if a == \"1\":\n",
    "    print(answer31())\n",
    "if a == \"2\":\n",
    "    print(answer32())\n",
    "if a == \"3\":\n",
    "    print(answer33())\n",
    "if a != \"1\" and a != \"2\" and a != \"3\":\n",
    "    print(\"Sorry, we don't provide this service.\")            \n",
    "print(\"Press enter to exit\")\n",
    "b = input(\"enter：\")"
   ]
  },
  {
   "cell_type": "code",
   "execution_count": null,
   "metadata": {},
   "outputs": [],
   "source": []
  }
 ],
 "metadata": {
  "kernelspec": {
   "display_name": "Python 3",
   "language": "python",
   "name": "python3"
  },
  "language_info": {
   "codemirror_mode": {
    "name": "ipython",
    "version": 3
   },
   "file_extension": ".py",
   "mimetype": "text/x-python",
   "name": "python",
   "nbconvert_exporter": "python",
   "pygments_lexer": "ipython3",
   "version": "3.6.4"
  }
 },
 "nbformat": 4,
 "nbformat_minor": 2
}
